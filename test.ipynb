{
 "cells": [
  {
   "cell_type": "code",
   "execution_count": 1,
   "metadata": {},
   "outputs": [
    {
     "data": {
      "text/plain": [
       "'the training was executed completely'"
      ]
     },
     "execution_count": 1,
     "metadata": {},
     "output_type": "execute_result"
    }
   ],
   "source": [
    "import pandas as pd\n",
    "import warnings\n",
    "import json\n",
    "pd.set_option('display.max_columns', None)\n",
    "pd.set_option('display.max_rows', None)\n",
    "warnings.simplefilter(action='ignore', category=UserWarning)\n",
    "warnings.simplefilter(action='ignore', category=FutureWarning)\n",
    "\n",
    "df = pd.read_csv(\"train_initial.csv\")\n",
    "\n",
    "from training_pipeline.trainer import trainer\n",
    "\n",
    "obj = trainer()\n",
    "\n",
    "obj.run(df=df)"
   ]
  },
  {
   "cell_type": "code",
   "execution_count": 6,
   "metadata": {},
   "outputs": [],
   "source": [
    "df[\"User_Behaviour_RegistrationDatetime\"] = df[\"User_Behaviour_RegistrationDatetime\"].astype(str)"
   ]
  },
  {
   "cell_type": "code",
   "execution_count": 8,
   "metadata": {},
   "outputs": [],
   "source": [
    "df.set_index(\"UserID\", inplace=True)"
   ]
  },
  {
   "cell_type": "code",
   "execution_count": 11,
   "metadata": {},
   "outputs": [
    {
     "data": {
      "text/plain": [
       "True"
      ]
     },
     "execution_count": 11,
     "metadata": {},
     "output_type": "execute_result"
    }
   ],
   "source": [
    "df[\"User_Behaviour_RegistrationDatetime\"].dtype =='O'"
   ]
  },
  {
   "cell_type": "code",
   "execution_count": 9,
   "metadata": {},
   "outputs": [],
   "source": [
    "df.to_csv(\"train_initial.csv\")"
   ]
  },
  {
   "cell_type": "code",
   "execution_count": 2,
   "metadata": {},
   "outputs": [],
   "source": [
    "import pandas as pd\n",
    "import warnings\n",
    "import json\n",
    "pd.set_option('display.max_columns', None)\n",
    "pd.set_option('display.max_rows', None)\n",
    "warnings.simplefilter(action='ignore', category=UserWarning)\n",
    "warnings.simplefilter(action='ignore', category=FutureWarning)\n",
    "\n",
    "son = json.load(open(\"predict_initial.json\", \"rb\"))"
   ]
  },
  {
   "cell_type": "code",
   "execution_count": 3,
   "metadata": {},
   "outputs": [
    {
     "name": "stdout",
     "output_type": "stream",
     "text": [
      "Prior:  0.05863250970791053\n",
      "beta-prior:  [0.5863250970791053, 9.413674902920894]\n",
      "Scorecard:  0.07718749999999999\n",
      "beta-score:  [6.5609375, 78.4390625]\n",
      "{'User_GenericInfo_Birth': 33.6, 'User_Job_Education': 'scuola secondaria di I grado', 'User_GenericInfo_Address': 'piemonte', 'User_Job_Position': 'pensionato', 'User_GenericInfo_Gender': 'm', 'User_Job_Sector': 'commercialisti e fiscalisti', 'User_Behaviour_Device': 'samsung', 'User_Finance_TotalLoans_Salary': False, 'User_Job_Employed': True, 'User_Behaviour_Default': False, 'User_Finance_Balance_Withdrawls': 0.05, 'User_Finance_AvarageAccountSpending': 0.01, 'User_Finance_RID': 0.01, 'User_Finance_AvarageCreditSpending': 0.01, 'User_Finance_AvarageTransactionsAmount': 0.01, 'User_Behaviour_RegistrationDatetime': 1.0, 'User_Behaviour_OnboardingTime': 0.95, 'User_Behaviour_WeeklyVisitNumber': 0.05, 'User_Behaviour_Lifetime': 18.4, 'User_Finance_TotalLoans_Amount': 0.01, 'User_Finance_TotalLoans_Number': 0.01, 'max_min_index': 0.0, 'income_debt_index': 1.0, 'wealth_debt_index': 3.0, 'in_out_index': 1.0}\n",
      "ML:  0.2835051546391753\n",
      "beta-ml:  [1.4000000000000001, 3.5999999999999996]\n"
     ]
    },
    {
     "data": {
      "text/plain": [
       "{'UserID': 1, 'default_probability': 0.0855, 'sign': 1}"
      ]
     },
     "execution_count": 3,
     "metadata": {},
     "output_type": "execute_result"
    }
   ],
   "source": [
    "from prediction_pipeline.predictor import predictor\n",
    "\n",
    "obj = predictor()\n",
    "\n",
    "obj.run(data=son)\n"
   ]
  },
  {
   "cell_type": "code",
   "execution_count": null,
   "metadata": {},
   "outputs": [],
   "source": []
  },
  {
   "cell_type": "code",
   "execution_count": null,
   "metadata": {},
   "outputs": [],
   "source": []
  }
 ],
 "metadata": {
  "kernelspec": {
   "display_name": "Python 3",
   "language": "python",
   "name": "python3"
  },
  "language_info": {
   "codemirror_mode": {
    "name": "ipython",
    "version": 3
   },
   "file_extension": ".py",
   "mimetype": "text/x-python",
   "name": "python",
   "nbconvert_exporter": "python",
   "pygments_lexer": "ipython3",
   "version": "3.10.10"
  }
 },
 "nbformat": 4,
 "nbformat_minor": 2
}
